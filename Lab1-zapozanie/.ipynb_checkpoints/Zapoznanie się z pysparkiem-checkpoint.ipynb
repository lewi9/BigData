{
 "cells": [
  {
   "cell_type": "code",
   "execution_count": 1,
   "id": "2000d704",
   "metadata": {},
   "outputs": [],
   "source": []
  },
  {
   "cell_type": "code",
   "execution_count": null,
   "id": "ecfd6b63",
   "metadata": {},
   "outputs": [],
   "source": [
    "def file_exists(path):\n",
    "  try:\n",
    "    dbutils.fs.ls(path)\n",
    "    return True \n",
    "  except Exception as e:\n",
    "    if 'java.io.FileNotFoundException' in str(e):\n",
    "      return False\n",
    "    else:\n",
    "      raise"
   ]
  },
  {
   "cell_type": "code",
   "execution_count": 2,
   "id": "f0fee62d",
   "metadata": {},
   "outputs": [
    {
     "ename": "NameError",
     "evalue": "name 'dbutils' is not defined",
     "output_type": "error",
     "traceback": [
      "\u001b[0;31m---------------------------------------------------------------------------\u001b[0m",
      "\u001b[0;31mNameError\u001b[0m                                 Traceback (most recent call last)",
      "Cell \u001b[0;32mIn [2], line 6\u001b[0m\n\u001b[1;32m      4\u001b[0m ratingsUrl \u001b[38;5;241m=\u001b[39m \u001b[38;5;124m\"\u001b[39m\u001b[38;5;124mhttps://raw.githubusercontent.com/cegladanych/azure_bi_data/main/IMDB_movies/ratings.csv\u001b[39m\u001b[38;5;124m\"\u001b[39m\n\u001b[1;32m      5\u001b[0m filePath \u001b[38;5;241m=\u001b[39m \u001b[38;5;124m\"\u001b[39m\u001b[38;5;124m/FileStore/tables/Files/\u001b[39m\u001b[38;5;124m\"\u001b[39m\n\u001b[0;32m----> 6\u001b[0m \u001b[43mdbutils\u001b[49m\u001b[38;5;241m.\u001b[39mfs\u001b[38;5;241m.\u001b[39mmkdirs(filePath)\n\u001b[1;32m      7\u001b[0m actorsFile \u001b[38;5;241m=\u001b[39m \u001b[38;5;124m\"\u001b[39m\u001b[38;5;124mactors.csv\u001b[39m\u001b[38;5;124m\"\u001b[39m\n\u001b[1;32m      8\u001b[0m moviesFile \u001b[38;5;241m=\u001b[39m \u001b[38;5;124m\"\u001b[39m\u001b[38;5;124mmovies.csv\u001b[39m\u001b[38;5;124m\"\u001b[39m\n",
      "\u001b[0;31mNameError\u001b[0m: name 'dbutils' is not defined"
     ]
    }
   ],
   "source": [
    "actorsUrl = \"https://raw.githubusercontent.com/cegladanych/azure_bi_data/main/IMDB_movies/actors.csv\"\n",
    "moviesUrl = \"https://raw.githubusercontent.com/cegladanych/azure_bi_data/main/IMDB_movies/movies.csv\"\n",
    "namesUrl = \"https://raw.githubusercontent.com/cegladanych/azure_bi_data/main/IMDB_movies/names.csv\"\n",
    "ratingsUrl = \"https://raw.githubusercontent.com/cegladanych/azure_bi_data/main/IMDB_movies/ratings.csv\"\n",
    "filePath = \"/FileStore/tables/Files/\"\n",
    "dbutils.fs.mkdirs(filePath)\n",
    "actorsFile = \"actors.csv\"\n",
    "moviesFile = \"movies.csv\"\n",
    "namesFile = \"names.csv\"\n",
    "ratingsFile = \"ratings.csv\"\n",
    "tmp = \"file:/tmp/\"\n",
    "dbfsdestination = \"dbfs:/FileStore/tables/Files/\""
   ]
  },
  {
   "cell_type": "code",
   "execution_count": null,
   "id": "d187680e",
   "metadata": {},
   "outputs": [],
   "source": [
    "#ACTORS\n",
    "import urllib.request\n",
    "\n",
    "if (file_exists(filePath + actorsFile) == False):\n",
    "  urllib.request.urlretrieve(actorsUrl,\"/tmp/\" + actorsFile)\n",
    "  dbutils.fs.mv(tmp + actorsFile,dbfsdestination + actorsFile)"
   ]
  }
 ],
 "metadata": {
  "kernelspec": {
   "display_name": "Python 3 (ipykernel)",
   "language": "python",
   "name": "python3"
  },
  "language_info": {
   "codemirror_mode": {
    "name": "ipython",
    "version": 3
   },
   "file_extension": ".py",
   "mimetype": "text/x-python",
   "name": "python",
   "nbconvert_exporter": "python",
   "pygments_lexer": "ipython3",
   "version": "3.10.6"
  }
 },
 "nbformat": 4,
 "nbformat_minor": 5
}
